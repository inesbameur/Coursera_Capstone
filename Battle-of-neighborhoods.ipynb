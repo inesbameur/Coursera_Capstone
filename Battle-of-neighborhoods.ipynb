{
 "cells": [
  {
   "cell_type": "markdown",
   "metadata": {},
   "source": [
    "# Capstone Project - The Battle of the Neighborhoods (Week 2)\n",
    "### Applied Data Science Capstone by IBM/Coursera"
   ]
  },
  {
   "cell_type": "markdown",
   "metadata": {},
   "source": [
    "## Table of contents\n",
    "* [Introduction: Business Problem](#introduction)\n",
    "* [Data](#data)\n",
    "* [Methodology](#methodology)\n",
    "* [Analysis](#analysis)\n",
    "* [Results and Discussion](#results)\n",
    "* [Conclusion](#conclusion)"
   ]
  },
  {
   "cell_type": "markdown",
   "metadata": {},
   "source": [
    "## Introduction: Business Problem <a name=\"introduction\"></a>"
   ]
  },
  {
   "cell_type": "markdown",
   "metadata": {},
   "source": [
    "This notebook details the specifications of my final capstone project for IBM Applied Data Science\n",
    "Capstone course in Coursera.\n",
    "For this project, I’m going to use the Foursquare location data and machine learning tools in order\n",
    "to segment and cluster neighborhoods in Athens, Greece.\n",
    "Being a fan of both Italian food and the grandiose Greek capital, I chose to setup a tool that\n",
    "helps an Italian restaurateur to open an Italian restaurant in Athens. Since Italian food is very\n",
    "spread worldwide, it is quite common to come across a Neapolitan or Sicilian restaurant in any\n",
    "neighborhood or city. Therefore finding the most suitable location to open such a restaurant is one\n",
    "of the most important decisions for this entrepreneur as a good location is one of the pillars of a\n",
    "profitable business."
   ]
  },
  {
   "cell_type": "markdown",
   "metadata": {},
   "source": [
    "## Data <a name=\"data\"></a>"
   ]
  },
  {
   "cell_type": "markdown",
   "metadata": {},
   "source": [
    "The first step of building the tool would be naturally to specify the data we’re going to need and\n",
    "then collect it from the adequate sources.\n",
    "\n",
    "In order to be able to cluster the neighborhoods of Athens we need:\n",
    "* List of neighborhoods in Athens: It is necessary to collect the neighborhoods of the city of\n",
    "Athens to apply the clustering.\n",
    "* Latitude and Longitude of the neighborhoods: We need the geolocation coordinates of each\n",
    "neighborhood in order to extract the venues located in each one.\n",
    "* Venues: Finally we need to extract the list of Italian restaurants along with different types of attraction venues in each neighborhood to complete our data collection. For the first step of data collection, we will load all sort of venues provided by Foursquare, then we will filter the places with the types we desire.\n",
    "\n",
    "We used the following data sources to collect the features specified above:\n",
    "* List of neighborhoods in Athens: This part is collected from (https://en.wikipedia.org/wiki/Category:Neighbourhoods_in_Athens) \n",
    "* Latitude and Longitude of the neighborhoods: The coordinates are extracted via geopy.geocoders python package.\n",
    "* Venues: The venues and their attributes are provided by the Foursquare API."
   ]
  },
  {
   "cell_type": "code",
   "execution_count": 2,
   "metadata": {},
   "outputs": [],
   "source": [
    "# import requests and BeautifulSoup to parse the wikipedia page\n",
    "from bs4 import BeautifulSoup\n",
    "import requests\n",
    "\n",
    "import pandas as pd\n",
    "import numpy as np\n",
    "\n",
    "from geopy.geocoders import Nominatim # convert an address into latitude and longitude values\n",
    "import folium"
   ]
  },
  {
   "cell_type": "markdown",
   "metadata": {},
   "source": [
    "The next step would be to get the page content and store it in a BeautifulSoup object.\n",
    "\n",
    "Note that i used **lxml** as the html processing library."
   ]
  },
  {
   "cell_type": "code",
   "execution_count": 3,
   "metadata": {},
   "outputs": [],
   "source": [
    "# wikipedia page link\n",
    "url = 'https://en.wikipedia.org/wiki/Category:Neighbourhoods_in_Athens'\n",
    "\n",
    "# get the html source code of the postal codes page\n",
    "html_source = requests.get(url).text\n",
    "\n",
    "# create a BeautifulSoup object to parse the html code\n",
    "soup_page = BeautifulSoup(html_source,'lxml')"
   ]
  },
  {
   "cell_type": "markdown",
   "metadata": {},
   "source": [
    "In this section, we will parse the BeautifulSoup object, grab the html list and convert it into a dataframe:"
   ]
  },
  {
   "cell_type": "code",
   "execution_count": 4,
   "metadata": {},
   "outputs": [],
   "source": [
    "# parse the object to grab the html table\n",
    "\n",
    "columns = ['Neighborhood']\n",
    "\n",
    "athens_neighborhoods = pd.DataFrame(columns=columns)\n",
    "\n",
    "list = soup_page.find('div', class_='mw-body').find('div',id='bodyContent').find('div',id='mw-content-text').find('div',class_='mw-category-generated').find('div',id='mw-pages').find('div',class_='mw-content-ltr').find('div',class_='mw-category').find_all('div')\n",
    "for item in list:\n",
    "    for list_item in item.ul.find_all('li'):\n",
    "        neighborhood = str(list_item.text).split(',')[0]\n",
    "        athens_neighborhoods=athens_neighborhoods.append({'Neighborhood': neighborhood}, ignore_index=True)\n",
    "\n",
    "athens_neighborhoods = athens_neighborhoods.iloc[:-1,]\n"
   ]
  },
  {
   "cell_type": "code",
   "execution_count": 5,
   "metadata": {},
   "outputs": [
    {
     "data": {
      "text/html": [
       "<div>\n",
       "<style scoped>\n",
       "    .dataframe tbody tr th:only-of-type {\n",
       "        vertical-align: middle;\n",
       "    }\n",
       "\n",
       "    .dataframe tbody tr th {\n",
       "        vertical-align: top;\n",
       "    }\n",
       "\n",
       "    .dataframe thead th {\n",
       "        text-align: right;\n",
       "    }\n",
       "</style>\n",
       "<table border=\"1\" class=\"dataframe\">\n",
       "  <thead>\n",
       "    <tr style=\"text-align: right;\">\n",
       "      <th></th>\n",
       "      <th>Neighborhood</th>\n",
       "    </tr>\n",
       "  </thead>\n",
       "  <tbody>\n",
       "    <tr>\n",
       "      <th>0</th>\n",
       "      <td>Aerides</td>\n",
       "    </tr>\n",
       "    <tr>\n",
       "      <th>1</th>\n",
       "      <td>Agios Eleftherios</td>\n",
       "    </tr>\n",
       "    <tr>\n",
       "      <th>2</th>\n",
       "      <td>Agios Panteleimonas</td>\n",
       "    </tr>\n",
       "    <tr>\n",
       "      <th>3</th>\n",
       "      <td>Akadimia Platonos</td>\n",
       "    </tr>\n",
       "    <tr>\n",
       "      <th>4</th>\n",
       "      <td>Akadimia</td>\n",
       "    </tr>\n",
       "  </tbody>\n",
       "</table>\n",
       "</div>"
      ],
      "text/plain": [
       "          Neighborhood\n",
       "0              Aerides\n",
       "1    Agios Eleftherios\n",
       "2  Agios Panteleimonas\n",
       "3    Akadimia Platonos\n",
       "4             Akadimia"
      ]
     },
     "execution_count": 5,
     "metadata": {},
     "output_type": "execute_result"
    }
   ],
   "source": [
    "athens_neighborhoods.head()"
   ]
  },
  {
   "cell_type": "markdown",
   "metadata": {},
   "source": [
    "Now we need to collect the coordinates of the neighborhoods we collected:"
   ]
  },
  {
   "cell_type": "code",
   "execution_count": 6,
   "metadata": {},
   "outputs": [
    {
     "name": "stdout",
     "output_type": "stream",
     "text": [
      "----------\n",
      "Done!\n",
      "----------\n"
     ]
    }
   ],
   "source": [
    "geolocator = Nominatim(user_agent=\"ny_explorer\")\n",
    "\n",
    "for neighborhood in athens_neighborhoods['Neighborhood']:\n",
    "    try:\n",
    "        address = neighborhood+', Greece'\n",
    "        location = geolocator.geocode(address)\n",
    "        latitude = location.latitude\n",
    "        longitude = location.longitude\n",
    "        index =  athens_neighborhoods.index[athens_neighborhoods['Neighborhood'] == neighborhood]\n",
    "        athens_neighborhoods.loc[index,'Latitude']= latitude\n",
    "        athens_neighborhoods.loc[index,'Longitude']= longitude\n",
    "\n",
    "    except:\n",
    "        pass\n",
    "\n",
    "print('----------')\n",
    "print('Done!')\n",
    "print('----------')"
   ]
  },
  {
   "cell_type": "code",
   "execution_count": 9,
   "metadata": {},
   "outputs": [
    {
     "data": {
      "text/html": [
       "<div>\n",
       "<style scoped>\n",
       "    .dataframe tbody tr th:only-of-type {\n",
       "        vertical-align: middle;\n",
       "    }\n",
       "\n",
       "    .dataframe tbody tr th {\n",
       "        vertical-align: top;\n",
       "    }\n",
       "\n",
       "    .dataframe thead th {\n",
       "        text-align: right;\n",
       "    }\n",
       "</style>\n",
       "<table border=\"1\" class=\"dataframe\">\n",
       "  <thead>\n",
       "    <tr style=\"text-align: right;\">\n",
       "      <th></th>\n",
       "      <th>Neighborhood</th>\n",
       "      <th>Latitude</th>\n",
       "      <th>Longitude</th>\n",
       "    </tr>\n",
       "  </thead>\n",
       "  <tbody>\n",
       "    <tr>\n",
       "      <th>0</th>\n",
       "      <td>Aerides</td>\n",
       "      <td>36.147765</td>\n",
       "      <td>22.989737</td>\n",
       "    </tr>\n",
       "    <tr>\n",
       "      <th>1</th>\n",
       "      <td>Agios Eleftherios</td>\n",
       "      <td>38.020044</td>\n",
       "      <td>23.731724</td>\n",
       "    </tr>\n",
       "    <tr>\n",
       "      <th>2</th>\n",
       "      <td>Agios Panteleimonas</td>\n",
       "      <td>37.607478</td>\n",
       "      <td>26.096458</td>\n",
       "    </tr>\n",
       "    <tr>\n",
       "      <th>3</th>\n",
       "      <td>Akadimia Platonos</td>\n",
       "      <td>37.989357</td>\n",
       "      <td>23.711217</td>\n",
       "    </tr>\n",
       "    <tr>\n",
       "      <th>4</th>\n",
       "      <td>Akadimia</td>\n",
       "      <td>37.980285</td>\n",
       "      <td>23.734528</td>\n",
       "    </tr>\n",
       "    <tr>\n",
       "      <th>5</th>\n",
       "      <td>Ampelokipoi</td>\n",
       "      <td>37.758008</td>\n",
       "      <td>20.871949</td>\n",
       "    </tr>\n",
       "    <tr>\n",
       "      <th>6</th>\n",
       "      <td>Anafiotika</td>\n",
       "      <td>37.972351</td>\n",
       "      <td>23.728043</td>\n",
       "    </tr>\n",
       "    <tr>\n",
       "      <th>7</th>\n",
       "      <td>Ano Petralona</td>\n",
       "      <td>NaN</td>\n",
       "      <td>NaN</td>\n",
       "    </tr>\n",
       "    <tr>\n",
       "      <th>8</th>\n",
       "      <td>Asteroskopeio</td>\n",
       "      <td>37.973125</td>\n",
       "      <td>23.719985</td>\n",
       "    </tr>\n",
       "    <tr>\n",
       "      <th>9</th>\n",
       "      <td>Asyrmatos</td>\n",
       "      <td>NaN</td>\n",
       "      <td>NaN</td>\n",
       "    </tr>\n",
       "  </tbody>\n",
       "</table>\n",
       "</div>"
      ],
      "text/plain": [
       "          Neighborhood   Latitude  Longitude\n",
       "0              Aerides  36.147765  22.989737\n",
       "1    Agios Eleftherios  38.020044  23.731724\n",
       "2  Agios Panteleimonas  37.607478  26.096458\n",
       "3    Akadimia Platonos  37.989357  23.711217\n",
       "4             Akadimia  37.980285  23.734528\n",
       "5          Ampelokipoi  37.758008  20.871949\n",
       "6           Anafiotika  37.972351  23.728043\n",
       "7        Ano Petralona        NaN        NaN\n",
       "8        Asteroskopeio  37.973125  23.719985\n",
       "9            Asyrmatos        NaN        NaN"
      ]
     },
     "execution_count": 9,
     "metadata": {},
     "output_type": "execute_result"
    }
   ],
   "source": [
    "athens_neighborhoods.head(10)"
   ]
  },
  {
   "cell_type": "markdown",
   "metadata": {},
   "source": [
    "As we can see above, we need to clean the data since we couldn't extract the cooridnates of some of the neighborhoods, there fore we must drop all the rows with empty coordinates."
   ]
  },
  {
   "cell_type": "code",
   "execution_count": 10,
   "metadata": {},
   "outputs": [
    {
     "data": {
      "text/html": [
       "<div>\n",
       "<style scoped>\n",
       "    .dataframe tbody tr th:only-of-type {\n",
       "        vertical-align: middle;\n",
       "    }\n",
       "\n",
       "    .dataframe tbody tr th {\n",
       "        vertical-align: top;\n",
       "    }\n",
       "\n",
       "    .dataframe thead th {\n",
       "        text-align: right;\n",
       "    }\n",
       "</style>\n",
       "<table border=\"1\" class=\"dataframe\">\n",
       "  <thead>\n",
       "    <tr style=\"text-align: right;\">\n",
       "      <th></th>\n",
       "      <th>Neighborhood</th>\n",
       "      <th>Latitude</th>\n",
       "      <th>Longitude</th>\n",
       "    </tr>\n",
       "  </thead>\n",
       "  <tbody>\n",
       "    <tr>\n",
       "      <th>0</th>\n",
       "      <td>Aerides</td>\n",
       "      <td>36.147765</td>\n",
       "      <td>22.989737</td>\n",
       "    </tr>\n",
       "    <tr>\n",
       "      <th>1</th>\n",
       "      <td>Agios Eleftherios</td>\n",
       "      <td>38.020044</td>\n",
       "      <td>23.731724</td>\n",
       "    </tr>\n",
       "    <tr>\n",
       "      <th>2</th>\n",
       "      <td>Agios Panteleimonas</td>\n",
       "      <td>37.607478</td>\n",
       "      <td>26.096458</td>\n",
       "    </tr>\n",
       "    <tr>\n",
       "      <th>3</th>\n",
       "      <td>Akadimia Platonos</td>\n",
       "      <td>37.989357</td>\n",
       "      <td>23.711217</td>\n",
       "    </tr>\n",
       "    <tr>\n",
       "      <th>4</th>\n",
       "      <td>Akadimia</td>\n",
       "      <td>37.980285</td>\n",
       "      <td>23.734528</td>\n",
       "    </tr>\n",
       "    <tr>\n",
       "      <th>5</th>\n",
       "      <td>Ampelokipoi</td>\n",
       "      <td>37.758008</td>\n",
       "      <td>20.871949</td>\n",
       "    </tr>\n",
       "    <tr>\n",
       "      <th>6</th>\n",
       "      <td>Anafiotika</td>\n",
       "      <td>37.972351</td>\n",
       "      <td>23.728043</td>\n",
       "    </tr>\n",
       "    <tr>\n",
       "      <th>8</th>\n",
       "      <td>Asteroskopeio</td>\n",
       "      <td>37.973125</td>\n",
       "      <td>23.719985</td>\n",
       "    </tr>\n",
       "    <tr>\n",
       "      <th>10</th>\n",
       "      <td>Attiki</td>\n",
       "      <td>38.059883</td>\n",
       "      <td>23.758686</td>\n",
       "    </tr>\n",
       "    <tr>\n",
       "      <th>11</th>\n",
       "      <td>Elaionas</td>\n",
       "      <td>38.198813</td>\n",
       "      <td>22.169811</td>\n",
       "    </tr>\n",
       "  </tbody>\n",
       "</table>\n",
       "</div>"
      ],
      "text/plain": [
       "           Neighborhood   Latitude  Longitude\n",
       "0               Aerides  36.147765  22.989737\n",
       "1     Agios Eleftherios  38.020044  23.731724\n",
       "2   Agios Panteleimonas  37.607478  26.096458\n",
       "3     Akadimia Platonos  37.989357  23.711217\n",
       "4              Akadimia  37.980285  23.734528\n",
       "5           Ampelokipoi  37.758008  20.871949\n",
       "6            Anafiotika  37.972351  23.728043\n",
       "8         Asteroskopeio  37.973125  23.719985\n",
       "10               Attiki  38.059883  23.758686\n",
       "11             Elaionas  38.198813  22.169811"
      ]
     },
     "execution_count": 10,
     "metadata": {},
     "output_type": "execute_result"
    }
   ],
   "source": [
    "athens_neighborhoods=athens_neighborhoods.dropna()\n",
    "athens_neighborhoods.head(10)"
   ]
  },
  {
   "cell_type": "markdown",
   "metadata": {},
   "source": [
    "Let's check how many neighborhood did we end up with:"
   ]
  },
  {
   "cell_type": "code",
   "execution_count": 11,
   "metadata": {},
   "outputs": [
    {
     "name": "stdout",
     "output_type": "stream",
     "text": [
      "----------------------------------------\n",
      "Number of neighborhoods to cluster: 51\n",
      "----------------------------------------\n"
     ]
    }
   ],
   "source": [
    "print('----------------------------------------')\n",
    "print('Number of neighborhoods to cluster: {}'.format(athens_neighborhoods.shape[0]))\n",
    "print('----------------------------------------')"
   ]
  },
  {
   "cell_type": "markdown",
   "metadata": {},
   "source": [
    "Let's create a map to visualize the data we cleaned:"
   ]
  },
  {
   "cell_type": "code",
   "execution_count": 12,
   "metadata": {},
   "outputs": [
    {
     "data": {
      "text/html": [
       "<div style=\"width:100%;\"><div style=\"position:relative;width:100%;height:0;padding-bottom:60%;\"><iframe src=\"data:text/html;charset=utf-8;base64,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\" style=\"position:absolute;width:100%;height:100%;left:0;top:0;border:none !important;\" allowfullscreen webkitallowfullscreen mozallowfullscreen></iframe></div></div>"
      ],
      "text/plain": [
       "<folium.folium.Map at 0x7f9508a5ae50>"
      ]
     },
     "execution_count": 12,
     "metadata": {},
     "output_type": "execute_result"
    }
   ],
   "source": [
    "address = 'Athens, Greece'\n",
    "\n",
    "location = geolocator.geocode(address)\n",
    "latitude = location.latitude\n",
    "longitude = location.longitude\n",
    "\n",
    "map_Athens = folium.Map(location=[latitude, longitude], zoom_start=11)\n",
    "\n",
    "# add markers to map\n",
    "for lat, lng, label in zip(athens_neighborhoods['Latitude'], athens_neighborhoods['Longitude'], athens_neighborhoods['Neighborhood']):\n",
    "    label = folium.Popup(label, parse_html=True)\n",
    "    folium.CircleMarker(\n",
    "        [lat, lng],\n",
    "        radius=5,\n",
    "        popup=label,\n",
    "        color='blue',\n",
    "        fill=True,\n",
    "        fill_color='#3186cc',\n",
    "        fill_opacity=0.7,\n",
    "        parse_html=False).add_to(map_Athens)  \n",
    "    \n",
    "map_Athens"
   ]
  },
  {
   "cell_type": "markdown",
   "metadata": {},
   "source": [
    "### Foursquare API\n",
    "Now that we have our location candidates, let's use Foursquare API to collect all the venues in each neighborhood.\n",
    "\n",
    "After we get the venues from the API, we need to filter them and keep Italian restaurants and attractions."
   ]
  },
  {
   "cell_type": "code",
   "execution_count": 13,
   "metadata": {},
   "outputs": [],
   "source": [
    "CLIENT_ID = '3MI4THPNW3SDCZDZDDCNX4VBK31BMZGMZNWI2XDTFPENXW2I'\n",
    "CLIENT_SECRET = 'R4EQZH5YSOHSKJGBZLRWV4SVXCAALGUREUWMWPBNFW0YSA1E'\n",
    "VERSION = '20180605' # Foursquare API version\n",
    "\n",
    "LIMIT= 100"
   ]
  },
  {
   "cell_type": "code",
   "execution_count": 14,
   "metadata": {},
   "outputs": [],
   "source": [
    "def getNearbyVenues(names, latitudes, longitudes, radius=500):\n",
    "    \n",
    "    venues_list=[]\n",
    "    for name, lat, lng in zip(names, latitudes, longitudes):\n",
    "            \n",
    "        # create the API request URL\n",
    "        url = 'https://api.foursquare.com/v2/venues/explore?&client_id={}&client_secret={}&v={}&ll={},{}&radius={}&limit={}'.format(\n",
    "            CLIENT_ID, \n",
    "            CLIENT_SECRET, \n",
    "            VERSION, \n",
    "            lat, \n",
    "            lng, \n",
    "            radius, \n",
    "            LIMIT)\n",
    "            \n",
    "        # make the GET request\n",
    "        results = requests.get(url).json()[\"response\"]['groups'][0]['items']\n",
    "        \n",
    "        # return only relevant information for each nearby venue\n",
    "        venues_list.append([(\n",
    "            name, \n",
    "            lat, \n",
    "            lng, \n",
    "            v['venue']['name'], \n",
    "            v['venue']['location']['lat'], \n",
    "            v['venue']['location']['lng'],  \n",
    "            v['venue']['categories'][0]['name']) for v in results])\n",
    "\n",
    "    nearby_venues = pd.DataFrame([item for venue_list in venues_list for item in venue_list])\n",
    "    nearby_venues.columns = ['Neighborhood', \n",
    "                  'Neighborhood Latitude', \n",
    "                  'Neighborhood Longitude', \n",
    "                  'Venue', \n",
    "                  'Venue Latitude', \n",
    "                  'Venue Longitude', \n",
    "                  'Venue Category']\n",
    "    \n",
    "    return(nearby_venues)"
   ]
  },
  {
   "cell_type": "code",
   "execution_count": 15,
   "metadata": {},
   "outputs": [
    {
     "name": "stdout",
     "output_type": "stream",
     "text": [
      "----------\n",
      "Done!\n",
      "----------\n"
     ]
    }
   ],
   "source": [
    "athens_venues = getNearbyVenues(names=athens_neighborhoods['Neighborhood'],\n",
    "                                   latitudes=athens_neighborhoods['Latitude'],\n",
    "                                   longitudes=athens_neighborhoods['Longitude']\n",
    "                                  )\n",
    "print('----------')\n",
    "print('Done!')\n",
    "print('----------')"
   ]
  },
  {
   "cell_type": "code",
   "execution_count": 16,
   "metadata": {},
   "outputs": [
    {
     "data": {
      "text/html": [
       "<div>\n",
       "<style scoped>\n",
       "    .dataframe tbody tr th:only-of-type {\n",
       "        vertical-align: middle;\n",
       "    }\n",
       "\n",
       "    .dataframe tbody tr th {\n",
       "        vertical-align: top;\n",
       "    }\n",
       "\n",
       "    .dataframe thead th {\n",
       "        text-align: right;\n",
       "    }\n",
       "</style>\n",
       "<table border=\"1\" class=\"dataframe\">\n",
       "  <thead>\n",
       "    <tr style=\"text-align: right;\">\n",
       "      <th></th>\n",
       "      <th>Neighborhood</th>\n",
       "      <th>Neighborhood Latitude</th>\n",
       "      <th>Neighborhood Longitude</th>\n",
       "      <th>Venue</th>\n",
       "      <th>Venue Latitude</th>\n",
       "      <th>Venue Longitude</th>\n",
       "      <th>Venue Category</th>\n",
       "    </tr>\n",
       "  </thead>\n",
       "  <tbody>\n",
       "    <tr>\n",
       "      <th>0</th>\n",
       "      <td>Aerides</td>\n",
       "      <td>36.147765</td>\n",
       "      <td>22.989737</td>\n",
       "      <td>Fossa</td>\n",
       "      <td>36.148441</td>\n",
       "      <td>22.988234</td>\n",
       "      <td>Café</td>\n",
       "    </tr>\n",
       "    <tr>\n",
       "      <th>1</th>\n",
       "      <td>Aerides</td>\n",
       "      <td>36.147765</td>\n",
       "      <td>22.989737</td>\n",
       "      <td>Κάστρο Χώρας</td>\n",
       "      <td>36.147039</td>\n",
       "      <td>22.990399</td>\n",
       "      <td>Castle</td>\n",
       "    </tr>\n",
       "    <tr>\n",
       "      <th>2</th>\n",
       "      <td>Aerides</td>\n",
       "      <td>36.147765</td>\n",
       "      <td>22.989737</td>\n",
       "      <td>Mercato</td>\n",
       "      <td>36.148107</td>\n",
       "      <td>22.988716</td>\n",
       "      <td>Bar</td>\n",
       "    </tr>\n",
       "    <tr>\n",
       "      <th>3</th>\n",
       "      <td>Aerides</td>\n",
       "      <td>36.147765</td>\n",
       "      <td>22.989737</td>\n",
       "      <td>Κούκος</td>\n",
       "      <td>36.147208</td>\n",
       "      <td>22.992778</td>\n",
       "      <td>Bar</td>\n",
       "    </tr>\n",
       "    <tr>\n",
       "      <th>4</th>\n",
       "      <td>Aerides</td>\n",
       "      <td>36.147765</td>\n",
       "      <td>22.989737</td>\n",
       "      <td>choraki</td>\n",
       "      <td>36.148251</td>\n",
       "      <td>22.988503</td>\n",
       "      <td>Cocktail Bar</td>\n",
       "    </tr>\n",
       "  </tbody>\n",
       "</table>\n",
       "</div>"
      ],
      "text/plain": [
       "  Neighborhood  Neighborhood Latitude  Neighborhood Longitude         Venue  \\\n",
       "0      Aerides              36.147765               22.989737         Fossa   \n",
       "1      Aerides              36.147765               22.989737  Κάστρο Χώρας   \n",
       "2      Aerides              36.147765               22.989737       Mercato   \n",
       "3      Aerides              36.147765               22.989737        Κούκος   \n",
       "4      Aerides              36.147765               22.989737       choraki   \n",
       "\n",
       "   Venue Latitude  Venue Longitude Venue Category  \n",
       "0       36.148441        22.988234           Café  \n",
       "1       36.147039        22.990399         Castle  \n",
       "2       36.148107        22.988716            Bar  \n",
       "3       36.147208        22.992778            Bar  \n",
       "4       36.148251        22.988503   Cocktail Bar  "
      ]
     },
     "execution_count": 16,
     "metadata": {},
     "output_type": "execute_result"
    }
   ],
   "source": [
    "athens_venues.head()"
   ]
  },
  {
   "cell_type": "markdown",
   "metadata": {},
   "source": [
    "Now we need to clean the data and keep the venues we need:"
   ]
  },
  {
   "cell_type": "code",
   "execution_count": 17,
   "metadata": {},
   "outputs": [
    {
     "data": {
      "text/html": [
       "<div>\n",
       "<style scoped>\n",
       "    .dataframe tbody tr th:only-of-type {\n",
       "        vertical-align: middle;\n",
       "    }\n",
       "\n",
       "    .dataframe tbody tr th {\n",
       "        vertical-align: top;\n",
       "    }\n",
       "\n",
       "    .dataframe thead th {\n",
       "        text-align: right;\n",
       "    }\n",
       "</style>\n",
       "<table border=\"1\" class=\"dataframe\">\n",
       "  <thead>\n",
       "    <tr style=\"text-align: right;\">\n",
       "      <th></th>\n",
       "      <th>Neighborhood</th>\n",
       "      <th>Number of attractions</th>\n",
       "    </tr>\n",
       "  </thead>\n",
       "  <tbody>\n",
       "    <tr>\n",
       "      <th>0</th>\n",
       "      <td>Akadimia</td>\n",
       "      <td>1.0</td>\n",
       "    </tr>\n",
       "    <tr>\n",
       "      <th>1</th>\n",
       "      <td>Akadimia Platonos</td>\n",
       "      <td>1.0</td>\n",
       "    </tr>\n",
       "    <tr>\n",
       "      <th>2</th>\n",
       "      <td>Anafiotika</td>\n",
       "      <td>2.0</td>\n",
       "    </tr>\n",
       "    <tr>\n",
       "      <th>3</th>\n",
       "      <td>Asteroskopeio</td>\n",
       "      <td>3.0</td>\n",
       "    </tr>\n",
       "    <tr>\n",
       "      <th>4</th>\n",
       "      <td>Ellinoroson</td>\n",
       "      <td>1.0</td>\n",
       "    </tr>\n",
       "  </tbody>\n",
       "</table>\n",
       "</div>"
      ],
      "text/plain": [
       "        Neighborhood  Number of attractions\n",
       "0           Akadimia                    1.0\n",
       "1  Akadimia Platonos                    1.0\n",
       "2         Anafiotika                    2.0\n",
       "3      Asteroskopeio                    3.0\n",
       "4        Ellinoroson                    1.0"
      ]
     },
     "execution_count": 17,
     "metadata": {},
     "output_type": "execute_result"
    }
   ],
   "source": [
    "attractions=['Art Gallery','Concert Hall','Movie Theater','Music Venue','Museum','Pub','Performing Arts Venue']\n",
    "attraction_venues = athens_venues[athens_venues['Venue Category'].isin(attractions)].reset_index(drop=True)\n",
    "\n",
    "attraction_venues_index = pd.get_dummies(attraction_venues[['Venue Category']], prefix=\"\", prefix_sep=\"\")\n",
    "attraction_venues_index['Neighborhood'] = attraction_venues['Neighborhood']\n",
    "\n",
    "columns = attraction_venues_index.columns.tolist()\n",
    "columns = columns[-1:] + columns[:-1]\n",
    "attraction_venues_index = attraction_venues_index[columns]\n",
    "\n",
    "number_attractions = pd.DataFrame(data=attraction_venues_index.groupby('Neighborhood').size()).reset_index()\n",
    "number_attractions.columns=['Neighborhood','Number of attractions']\n",
    "\n",
    "number_attractions = number_attractions.merge(athens_neighborhoods,how='right',on='Neighborhood').fillna(0)\n",
    "number_attractions = number_attractions[['Neighborhood','Number of attractions']]\n",
    "number_attractions.head()"
   ]
  },
  {
   "cell_type": "markdown",
   "metadata": {},
   "source": [
    "We also need to count the number of italian restaurants per neighborhood:"
   ]
  },
  {
   "cell_type": "code",
   "execution_count": 18,
   "metadata": {},
   "outputs": [
    {
     "data": {
      "text/html": [
       "<div>\n",
       "<style scoped>\n",
       "    .dataframe tbody tr th:only-of-type {\n",
       "        vertical-align: middle;\n",
       "    }\n",
       "\n",
       "    .dataframe tbody tr th {\n",
       "        vertical-align: top;\n",
       "    }\n",
       "\n",
       "    .dataframe thead th {\n",
       "        text-align: right;\n",
       "    }\n",
       "</style>\n",
       "<table border=\"1\" class=\"dataframe\">\n",
       "  <thead>\n",
       "    <tr style=\"text-align: right;\">\n",
       "      <th></th>\n",
       "      <th>Neighborhood</th>\n",
       "      <th>Number of Italian Restaurants</th>\n",
       "    </tr>\n",
       "  </thead>\n",
       "  <tbody>\n",
       "    <tr>\n",
       "      <th>0</th>\n",
       "      <td>Aerides</td>\n",
       "      <td>1.0</td>\n",
       "    </tr>\n",
       "    <tr>\n",
       "      <th>1</th>\n",
       "      <td>Akadimia</td>\n",
       "      <td>1.0</td>\n",
       "    </tr>\n",
       "    <tr>\n",
       "      <th>2</th>\n",
       "      <td>Ellinoroson</td>\n",
       "      <td>2.0</td>\n",
       "    </tr>\n",
       "    <tr>\n",
       "      <th>3</th>\n",
       "      <td>Kallimarmaro</td>\n",
       "      <td>6.0</td>\n",
       "    </tr>\n",
       "    <tr>\n",
       "      <th>4</th>\n",
       "      <td>Kallimarmaro</td>\n",
       "      <td>6.0</td>\n",
       "    </tr>\n",
       "  </tbody>\n",
       "</table>\n",
       "</div>"
      ],
      "text/plain": [
       "   Neighborhood  Number of Italian Restaurants\n",
       "0       Aerides                            1.0\n",
       "1      Akadimia                            1.0\n",
       "2   Ellinoroson                            2.0\n",
       "3  Kallimarmaro                            6.0\n",
       "4  Kallimarmaro                            6.0"
      ]
     },
     "execution_count": 18,
     "metadata": {},
     "output_type": "execute_result"
    }
   ],
   "source": [
    "# one hot encoding\n",
    "italian= athens_venues[athens_venues['Venue Category']=='Italian Restaurant'].reset_index(drop=True)\n",
    "italian_venues = pd.get_dummies(italian[['Venue Category']], prefix=\"\", prefix_sep=\"\")\n",
    "\n",
    "# add neighborhood column back to dataframe\n",
    "italian_venues['Neighborhood'] = italian['Neighborhood']\n",
    "fixed_columns = italian_venues.columns.tolist()\n",
    "fixed_columns =fixed_columns[-1:] + fixed_columns[:-1]\n",
    "italian_venues = italian_venues[fixed_columns]\n",
    "italian_grouped = italian_venues.groupby('Neighborhood').sum().reset_index()\n",
    "italian_grouped.columns=['Neighborhood', 'Number of Italian Restaurants']\n",
    "\n",
    "italian_grouped = italian_grouped.merge(athens_neighborhoods,how='right',on='Neighborhood').fillna(0)\n",
    "italian_grouped = italian_grouped[['Neighborhood','Number of Italian Restaurants']]\n",
    "\n",
    "italian_grouped.head()"
   ]
  },
  {
   "cell_type": "markdown",
   "metadata": {},
   "source": [
    "Now merging the 2 dataframes we created to form the final list we're going to cluster:"
   ]
  },
  {
   "cell_type": "code",
   "execution_count": 19,
   "metadata": {},
   "outputs": [
    {
     "data": {
      "text/html": [
       "<div>\n",
       "<style scoped>\n",
       "    .dataframe tbody tr th:only-of-type {\n",
       "        vertical-align: middle;\n",
       "    }\n",
       "\n",
       "    .dataframe tbody tr th {\n",
       "        vertical-align: top;\n",
       "    }\n",
       "\n",
       "    .dataframe thead th {\n",
       "        text-align: right;\n",
       "    }\n",
       "</style>\n",
       "<table border=\"1\" class=\"dataframe\">\n",
       "  <thead>\n",
       "    <tr style=\"text-align: right;\">\n",
       "      <th></th>\n",
       "      <th>Neighborhood</th>\n",
       "      <th>Number of Italian Restaurants</th>\n",
       "      <th>Number of attractions</th>\n",
       "    </tr>\n",
       "  </thead>\n",
       "  <tbody>\n",
       "    <tr>\n",
       "      <th>0</th>\n",
       "      <td>Aerides</td>\n",
       "      <td>1.0</td>\n",
       "      <td>0.0</td>\n",
       "    </tr>\n",
       "    <tr>\n",
       "      <th>1</th>\n",
       "      <td>Akadimia</td>\n",
       "      <td>1.0</td>\n",
       "      <td>1.0</td>\n",
       "    </tr>\n",
       "    <tr>\n",
       "      <th>2</th>\n",
       "      <td>Ellinoroson</td>\n",
       "      <td>2.0</td>\n",
       "      <td>1.0</td>\n",
       "    </tr>\n",
       "    <tr>\n",
       "      <th>3</th>\n",
       "      <td>Kallimarmaro</td>\n",
       "      <td>6.0</td>\n",
       "      <td>2.0</td>\n",
       "    </tr>\n",
       "    <tr>\n",
       "      <th>4</th>\n",
       "      <td>Kolonaki</td>\n",
       "      <td>4.0</td>\n",
       "      <td>2.0</td>\n",
       "    </tr>\n",
       "  </tbody>\n",
       "</table>\n",
       "</div>"
      ],
      "text/plain": [
       "   Neighborhood  Number of Italian Restaurants  Number of attractions\n",
       "0       Aerides                            1.0                    0.0\n",
       "1      Akadimia                            1.0                    1.0\n",
       "2   Ellinoroson                            2.0                    1.0\n",
       "3  Kallimarmaro                            6.0                    2.0\n",
       "4      Kolonaki                            4.0                    2.0"
      ]
     },
     "execution_count": 19,
     "metadata": {},
     "output_type": "execute_result"
    }
   ],
   "source": [
    "final_neighborhoods = italian_grouped.merge(number_attractions,how='inner',on='Neighborhood').fillna(0).drop_duplicates().reset_index(drop=True)\n",
    "final_neighborhoods.head()"
   ]
  },
  {
   "cell_type": "markdown",
   "metadata": {},
   "source": [
    "Let's visualize the data we cleaned and prepared:"
   ]
  },
  {
   "cell_type": "code",
   "execution_count": 26,
   "metadata": {},
   "outputs": [
    {
     "data": {
      "text/plain": [
       "array([[<matplotlib.axes._subplots.AxesSubplot object at 0x7f94c557b750>]],\n",
       "      dtype=object)"
      ]
     },
     "execution_count": 26,
     "metadata": {},
     "output_type": "execute_result"
    },
    {
     "data": {
      "image/png": "[encoded data removed]",
      "text/plain": [
       "<Figure size 432x288 with 1 Axes>"
      ]
     },
     "metadata": {
      "needs_background": "light"
     },
     "output_type": "display_data"
    }
   ],
   "source": [
    "hist=final_neighborhoods.copy()\n",
    "hist.set_index('Neighborhood',inplace=True)\n",
    "\n",
    "hist.hist(column='Number of Italian Restaurants',bins=10)"
   ]
  },
  {
   "cell_type": "code",
   "execution_count": 25,
   "metadata": {},
   "outputs": [
    {
     "data": {
      "text/plain": [
       "array([[<matplotlib.axes._subplots.AxesSubplot object at 0x7f94c5647610>]],\n",
       "      dtype=object)"
      ]
     },
     "execution_count": 25,
     "metadata": {},
     "output_type": "execute_result"
    },
    {
     "data": {
      "image/png": "[encoded data removed]",
      "text/plain": [
       "<Figure size 432x288 with 1 Axes>"
      ]
     },
     "metadata": {
      "needs_background": "light"
     },
     "output_type": "display_data"
    }
   ],
   "source": [
    "hist.hist(column='Number of attractions',bins=10)"
   ]
  },
  {
   "cell_type": "markdown",
   "metadata": {},
   "source": [
    "## Clustering\n",
    "\n",
    "The final part would be to apply Kmeans in order to cluster the neighborhoods based on the features we calculated:\n",
    "* Number of attractions per neighborhood\n",
    "* Number of italian restaurants per neighborhood"
   ]
  },
  {
   "cell_type": "code",
   "execution_count": 27,
   "metadata": {},
   "outputs": [
    {
     "data": {
      "text/plain": [
       "array([1, 1, 1, 2, 2, 1, 2, 1, 1, 1], dtype=int32)"
      ]
     },
     "execution_count": 27,
     "metadata": {},
     "output_type": "execute_result"
    }
   ],
   "source": [
    "from sklearn.cluster import KMeans\n",
    "\n",
    "# set number of clusters\n",
    "kclusters = 3\n",
    "\n",
    "italian_grouped_clustering = final_neighborhoods.drop('Neighborhood', 1)\n",
    "\n",
    "# run k-means clustering\n",
    "kmeans = KMeans(n_clusters=kclusters, random_state=0).fit(italian_grouped_clustering)\n",
    "\n",
    "# check cluster labels generated for each row in the dataframe\n",
    "kmeans.labels_[0:10] "
   ]
  },
  {
   "cell_type": "markdown",
   "metadata": {},
   "source": [
    "Let's add the generated cluster labels to the neighborhoods list in order to analyse the groups we obtained:"
   ]
  },
  {
   "cell_type": "code",
   "execution_count": 30,
   "metadata": {},
   "outputs": [
    {
     "data": {
      "text/html": [
       "<div>\n",
       "<style scoped>\n",
       "    .dataframe tbody tr th:only-of-type {\n",
       "        vertical-align: middle;\n",
       "    }\n",
       "\n",
       "    .dataframe tbody tr th {\n",
       "        vertical-align: top;\n",
       "    }\n",
       "\n",
       "    .dataframe thead th {\n",
       "        text-align: right;\n",
       "    }\n",
       "</style>\n",
       "<table border=\"1\" class=\"dataframe\">\n",
       "  <thead>\n",
       "    <tr style=\"text-align: right;\">\n",
       "      <th></th>\n",
       "      <th>Neighborhood</th>\n",
       "      <th>Latitude</th>\n",
       "      <th>Longitude</th>\n",
       "      <th>Cluster Labels</th>\n",
       "      <th>Number of Italian Restaurants</th>\n",
       "      <th>Number of attractions</th>\n",
       "    </tr>\n",
       "  </thead>\n",
       "  <tbody>\n",
       "    <tr>\n",
       "      <th>0</th>\n",
       "      <td>Aerides</td>\n",
       "      <td>36.147765</td>\n",
       "      <td>22.989737</td>\n",
       "      <td>1</td>\n",
       "      <td>1.0</td>\n",
       "      <td>0.0</td>\n",
       "    </tr>\n",
       "    <tr>\n",
       "      <th>1</th>\n",
       "      <td>Agios Eleftherios</td>\n",
       "      <td>38.020044</td>\n",
       "      <td>23.731724</td>\n",
       "      <td>1</td>\n",
       "      <td>0.0</td>\n",
       "      <td>0.0</td>\n",
       "    </tr>\n",
       "    <tr>\n",
       "      <th>2</th>\n",
       "      <td>Agios Panteleimonas</td>\n",
       "      <td>37.607478</td>\n",
       "      <td>26.096458</td>\n",
       "      <td>1</td>\n",
       "      <td>0.0</td>\n",
       "      <td>0.0</td>\n",
       "    </tr>\n",
       "    <tr>\n",
       "      <th>3</th>\n",
       "      <td>Akadimia Platonos</td>\n",
       "      <td>37.989357</td>\n",
       "      <td>23.711217</td>\n",
       "      <td>1</td>\n",
       "      <td>0.0</td>\n",
       "      <td>1.0</td>\n",
       "    </tr>\n",
       "    <tr>\n",
       "      <th>4</th>\n",
       "      <td>Akadimia</td>\n",
       "      <td>37.980285</td>\n",
       "      <td>23.734528</td>\n",
       "      <td>1</td>\n",
       "      <td>1.0</td>\n",
       "      <td>1.0</td>\n",
       "    </tr>\n",
       "  </tbody>\n",
       "</table>\n",
       "</div>"
      ],
      "text/plain": [
       "          Neighborhood   Latitude  Longitude  Cluster Labels  \\\n",
       "0              Aerides  36.147765  22.989737               1   \n",
       "1    Agios Eleftherios  38.020044  23.731724               1   \n",
       "2  Agios Panteleimonas  37.607478  26.096458               1   \n",
       "3    Akadimia Platonos  37.989357  23.711217               1   \n",
       "4             Akadimia  37.980285  23.734528               1   \n",
       "\n",
       "   Number of Italian Restaurants  Number of attractions  \n",
       "0                            1.0                    0.0  \n",
       "1                            0.0                    0.0  \n",
       "2                            0.0                    0.0  \n",
       "3                            0.0                    1.0  \n",
       "4                            1.0                    1.0  "
      ]
     },
     "execution_count": 30,
     "metadata": {},
     "output_type": "execute_result"
    }
   ],
   "source": [
    "# add clustering labels\n",
    "final_neighborhoods.insert(0, 'Cluster Labels', kmeans.labels_)\n",
    "\n",
    "italian_restaurants = athens_neighborhoods\n",
    "\n",
    "italian_restaurants = italian_restaurants.join(final_neighborhoods.set_index('Neighborhood'), on='Neighborhood', how='inner').reset_index(drop=True)\n",
    "\n",
    "italian_restaurants.head()"
   ]
  },
  {
   "cell_type": "markdown",
   "metadata": {},
   "source": [
    "Let's visualize the clustered neighborhoods on the map:"
   ]
  },
  {
   "cell_type": "code",
   "execution_count": 31,
   "metadata": {},
   "outputs": [
    {
     "data": {
      "text/html": [
       "<div style=\"width:100%;\"><div style=\"position:relative;width:100%;height:0;padding-bottom:60%;\"><iframe src=\"data:text/html;charset=utf-8;base64,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\" style=\"position:absolute;width:100%;height:100%;left:0;top:0;border:none !important;\" allowfullscreen webkitallowfullscreen mozallowfullscreen></iframe></div></div>"
      ],
      "text/plain": [
       "<folium.folium.Map at 0x7f94c559cb90>"
      ]
     },
     "execution_count": 31,
     "metadata": {},
     "output_type": "execute_result"
    }
   ],
   "source": [
    "# Matplotlib and associated plotting modules\n",
    "import matplotlib.cm as cm\n",
    "import matplotlib.colors as colors\n",
    "\n",
    "# create map\n",
    "map_clusters = folium.Map(location=[latitude, longitude], zoom_start=11)\n",
    "\n",
    "# set color scheme for the clusters\n",
    "x = np.arange(kclusters)\n",
    "ys = [i + x + (i*x)**2 for i in range(kclusters)]\n",
    "colors_array = cm.rainbow(np.linspace(0, 1, len(ys)))\n",
    "rainbow = [colors.rgb2hex(i) for i in colors_array]\n",
    "\n",
    "# add markers to the map\n",
    "markers_colors = []\n",
    "for lat, lon, poi, cluster in zip(italian_restaurants['Latitude'], italian_restaurants['Longitude'], italian_restaurants['Neighborhood'], italian_restaurants['Cluster Labels']):\n",
    "    label = folium.Popup(str(poi) + ' Cluster ' + str(cluster), parse_html=True)\n",
    "    folium.CircleMarker(\n",
    "        [lat, lon],\n",
    "        radius=5,\n",
    "        popup=label,\n",
    "        color=rainbow[int(cluster)-1],\n",
    "        fill=True,\n",
    "        fill_color=rainbow[int(cluster)-1],\n",
    "        fill_opacity=0.7).add_to(map_clusters)\n",
    "       \n",
    "map_clusters"
   ]
  },
  {
   "cell_type": "markdown",
   "metadata": {},
   "source": [
    "In order to analyse the clusters we have, let's visualize histograms for each cluster:"
   ]
  },
  {
   "cell_type": "code",
   "execution_count": 39,
   "metadata": {},
   "outputs": [
    {
     "data": {
      "text/html": [
       "<div>\n",
       "<style scoped>\n",
       "    .dataframe tbody tr th:only-of-type {\n",
       "        vertical-align: middle;\n",
       "    }\n",
       "\n",
       "    .dataframe tbody tr th {\n",
       "        vertical-align: top;\n",
       "    }\n",
       "\n",
       "    .dataframe thead th {\n",
       "        text-align: right;\n",
       "    }\n",
       "</style>\n",
       "<table border=\"1\" class=\"dataframe\">\n",
       "  <thead>\n",
       "    <tr style=\"text-align: right;\">\n",
       "      <th></th>\n",
       "      <th>Latitude</th>\n",
       "      <th>Longitude</th>\n",
       "      <th>Cluster Labels</th>\n",
       "      <th>Number of Italian Restaurants</th>\n",
       "      <th>Number of attractions</th>\n",
       "    </tr>\n",
       "    <tr>\n",
       "      <th>Neighborhood</th>\n",
       "      <th></th>\n",
       "      <th></th>\n",
       "      <th></th>\n",
       "      <th></th>\n",
       "      <th></th>\n",
       "    </tr>\n",
       "  </thead>\n",
       "  <tbody>\n",
       "    <tr>\n",
       "      <th>Asteroskopeio</th>\n",
       "      <td>37.973125</td>\n",
       "      <td>23.719985</td>\n",
       "      <td>0</td>\n",
       "      <td>0.0</td>\n",
       "      <td>3.0</td>\n",
       "    </tr>\n",
       "    <tr>\n",
       "      <th>Kerameikos</th>\n",
       "      <td>37.978730</td>\n",
       "      <td>23.719506</td>\n",
       "      <td>0</td>\n",
       "      <td>0.0</td>\n",
       "      <td>3.0</td>\n",
       "    </tr>\n",
       "    <tr>\n",
       "      <th>Kountouriotika</th>\n",
       "      <td>37.985335</td>\n",
       "      <td>23.754196</td>\n",
       "      <td>0</td>\n",
       "      <td>0.0</td>\n",
       "      <td>4.0</td>\n",
       "    </tr>\n",
       "    <tr>\n",
       "      <th>Metaxourgeio</th>\n",
       "      <td>37.985853</td>\n",
       "      <td>23.721380</td>\n",
       "      <td>0</td>\n",
       "      <td>0.0</td>\n",
       "      <td>3.0</td>\n",
       "    </tr>\n",
       "    <tr>\n",
       "      <th>Monastiraki</th>\n",
       "      <td>37.976273</td>\n",
       "      <td>23.725929</td>\n",
       "      <td>0</td>\n",
       "      <td>0.0</td>\n",
       "      <td>3.0</td>\n",
       "    </tr>\n",
       "    <tr>\n",
       "      <th>Pedion tou Areos</th>\n",
       "      <td>40.622526</td>\n",
       "      <td>22.955472</td>\n",
       "      <td>0</td>\n",
       "      <td>0.0</td>\n",
       "      <td>4.0</td>\n",
       "    </tr>\n",
       "    <tr>\n",
       "      <th>Rouf</th>\n",
       "      <td>37.979114</td>\n",
       "      <td>23.713333</td>\n",
       "      <td>0</td>\n",
       "      <td>0.0</td>\n",
       "      <td>7.0</td>\n",
       "    </tr>\n",
       "    <tr>\n",
       "      <th>Thiseio</th>\n",
       "      <td>37.976766</td>\n",
       "      <td>23.720329</td>\n",
       "      <td>0</td>\n",
       "      <td>0.0</td>\n",
       "      <td>6.0</td>\n",
       "    </tr>\n",
       "  </tbody>\n",
       "</table>\n",
       "</div>"
      ],
      "text/plain": [
       "                   Latitude  Longitude  Cluster Labels  \\\n",
       "Neighborhood                                             \n",
       "Asteroskopeio     37.973125  23.719985               0   \n",
       "Kerameikos        37.978730  23.719506               0   \n",
       "Kountouriotika    37.985335  23.754196               0   \n",
       "Metaxourgeio      37.985853  23.721380               0   \n",
       "Monastiraki       37.976273  23.725929               0   \n",
       "Pedion tou Areos  40.622526  22.955472               0   \n",
       "Rouf              37.979114  23.713333               0   \n",
       "Thiseio           37.976766  23.720329               0   \n",
       "\n",
       "                  Number of Italian Restaurants  Number of attractions  \n",
       "Neighborhood                                                            \n",
       "Asteroskopeio                               0.0                    3.0  \n",
       "Kerameikos                                  0.0                    3.0  \n",
       "Kountouriotika                              0.0                    4.0  \n",
       "Metaxourgeio                                0.0                    3.0  \n",
       "Monastiraki                                 0.0                    3.0  \n",
       "Pedion tou Areos                            0.0                    4.0  \n",
       "Rouf                                        0.0                    7.0  \n",
       "Thiseio                                     0.0                    6.0  "
      ]
     },
     "execution_count": 39,
     "metadata": {},
     "output_type": "execute_result"
    },
    {
     "data": {
      "image/png": "[encoded data removed]",
      "text/plain": [
       "<Figure size 432x288 with 2 Axes>"
      ]
     },
     "metadata": {
      "needs_background": "light"
     },
     "output_type": "display_data"
    }
   ],
   "source": [
    "cluster_0=italian_restaurants.loc[italian_restaurants['Cluster Labels'] == 0.0, ].copy()\n",
    "cluster_0.set_index('Neighborhood',inplace=True)\n",
    "\n",
    "cluster_0.hist(column=['Number of Italian Restaurants','Number of attractions'],bins=5)\n",
    "cluster_0"
   ]
  },
  {
   "cell_type": "code",
   "execution_count": 41,
   "metadata": {},
   "outputs": [
    {
     "data": {
      "text/html": [
       "<div>\n",
       "<style scoped>\n",
       "    .dataframe tbody tr th:only-of-type {\n",
       "        vertical-align: middle;\n",
       "    }\n",
       "\n",
       "    .dataframe tbody tr th {\n",
       "        vertical-align: top;\n",
       "    }\n",
       "\n",
       "    .dataframe thead th {\n",
       "        text-align: right;\n",
       "    }\n",
       "</style>\n",
       "<table border=\"1\" class=\"dataframe\">\n",
       "  <thead>\n",
       "    <tr style=\"text-align: right;\">\n",
       "      <th></th>\n",
       "      <th>Latitude</th>\n",
       "      <th>Longitude</th>\n",
       "      <th>Cluster Labels</th>\n",
       "      <th>Number of Italian Restaurants</th>\n",
       "      <th>Number of attractions</th>\n",
       "    </tr>\n",
       "    <tr>\n",
       "      <th>Neighborhood</th>\n",
       "      <th></th>\n",
       "      <th></th>\n",
       "      <th></th>\n",
       "      <th></th>\n",
       "      <th></th>\n",
       "    </tr>\n",
       "  </thead>\n",
       "  <tbody>\n",
       "    <tr>\n",
       "      <th>Aerides</th>\n",
       "      <td>36.147765</td>\n",
       "      <td>22.989737</td>\n",
       "      <td>1</td>\n",
       "      <td>1.0</td>\n",
       "      <td>0.0</td>\n",
       "    </tr>\n",
       "    <tr>\n",
       "      <th>Agios Eleftherios</th>\n",
       "      <td>38.020044</td>\n",
       "      <td>23.731724</td>\n",
       "      <td>1</td>\n",
       "      <td>0.0</td>\n",
       "      <td>0.0</td>\n",
       "    </tr>\n",
       "    <tr>\n",
       "      <th>Agios Panteleimonas</th>\n",
       "      <td>37.607478</td>\n",
       "      <td>26.096458</td>\n",
       "      <td>1</td>\n",
       "      <td>0.0</td>\n",
       "      <td>0.0</td>\n",
       "    </tr>\n",
       "    <tr>\n",
       "      <th>Akadimia Platonos</th>\n",
       "      <td>37.989357</td>\n",
       "      <td>23.711217</td>\n",
       "      <td>1</td>\n",
       "      <td>0.0</td>\n",
       "      <td>1.0</td>\n",
       "    </tr>\n",
       "    <tr>\n",
       "      <th>Akadimia</th>\n",
       "      <td>37.980285</td>\n",
       "      <td>23.734528</td>\n",
       "      <td>1</td>\n",
       "      <td>1.0</td>\n",
       "      <td>1.0</td>\n",
       "    </tr>\n",
       "  </tbody>\n",
       "</table>\n",
       "</div>"
      ],
      "text/plain": [
       "                      Latitude  Longitude  Cluster Labels  \\\n",
       "Neighborhood                                                \n",
       "Aerides              36.147765  22.989737               1   \n",
       "Agios Eleftherios    38.020044  23.731724               1   \n",
       "Agios Panteleimonas  37.607478  26.096458               1   \n",
       "Akadimia Platonos    37.989357  23.711217               1   \n",
       "Akadimia             37.980285  23.734528               1   \n",
       "\n",
       "                     Number of Italian Restaurants  Number of attractions  \n",
       "Neighborhood                                                               \n",
       "Aerides                                        1.0                    0.0  \n",
       "Agios Eleftherios                              0.0                    0.0  \n",
       "Agios Panteleimonas                            0.0                    0.0  \n",
       "Akadimia Platonos                              0.0                    1.0  \n",
       "Akadimia                                       1.0                    1.0  "
      ]
     },
     "execution_count": 41,
     "metadata": {},
     "output_type": "execute_result"
    },
    {
     "data": {
      "image/png": "[encoded data removed]",
      "text/plain": [
       "<Figure size 432x288 with 2 Axes>"
      ]
     },
     "metadata": {
      "needs_background": "light"
     },
     "output_type": "display_data"
    }
   ],
   "source": [
    "cluster_1=italian_restaurants.loc[italian_restaurants['Cluster Labels'] == 1.0, ].copy()\n",
    "cluster_1.set_index('Neighborhood',inplace=True)\n",
    "\n",
    "cluster_1.hist(column=['Number of Italian Restaurants','Number of attractions'],bins=5)\n",
    "cluster_1.head()"
   ]
  },
  {
   "cell_type": "code",
   "execution_count": 42,
   "metadata": {},
   "outputs": [
    {
     "data": {
      "text/html": [
       "<div>\n",
       "<style scoped>\n",
       "    .dataframe tbody tr th:only-of-type {\n",
       "        vertical-align: middle;\n",
       "    }\n",
       "\n",
       "    .dataframe tbody tr th {\n",
       "        vertical-align: top;\n",
       "    }\n",
       "\n",
       "    .dataframe thead th {\n",
       "        text-align: right;\n",
       "    }\n",
       "</style>\n",
       "<table border=\"1\" class=\"dataframe\">\n",
       "  <thead>\n",
       "    <tr style=\"text-align: right;\">\n",
       "      <th></th>\n",
       "      <th>Latitude</th>\n",
       "      <th>Longitude</th>\n",
       "      <th>Cluster Labels</th>\n",
       "      <th>Number of Italian Restaurants</th>\n",
       "      <th>Number of attractions</th>\n",
       "    </tr>\n",
       "    <tr>\n",
       "      <th>Neighborhood</th>\n",
       "      <th></th>\n",
       "      <th></th>\n",
       "      <th></th>\n",
       "      <th></th>\n",
       "      <th></th>\n",
       "    </tr>\n",
       "  </thead>\n",
       "  <tbody>\n",
       "    <tr>\n",
       "      <th>Kallimarmaro</th>\n",
       "      <td>37.968424</td>\n",
       "      <td>23.740403</td>\n",
       "      <td>2</td>\n",
       "      <td>6.0</td>\n",
       "      <td>2.0</td>\n",
       "    </tr>\n",
       "    <tr>\n",
       "      <th>Kallimarmaro</th>\n",
       "      <td>37.968424</td>\n",
       "      <td>23.740403</td>\n",
       "      <td>2</td>\n",
       "      <td>6.0</td>\n",
       "      <td>2.0</td>\n",
       "    </tr>\n",
       "    <tr>\n",
       "      <th>Kolonaki</th>\n",
       "      <td>37.976975</td>\n",
       "      <td>23.740814</td>\n",
       "      <td>2</td>\n",
       "      <td>4.0</td>\n",
       "      <td>2.0</td>\n",
       "    </tr>\n",
       "    <tr>\n",
       "      <th>Mount Lycabettus</th>\n",
       "      <td>37.981886</td>\n",
       "      <td>23.743152</td>\n",
       "      <td>2</td>\n",
       "      <td>7.0</td>\n",
       "      <td>4.0</td>\n",
       "    </tr>\n",
       "  </tbody>\n",
       "</table>\n",
       "</div>"
      ],
      "text/plain": [
       "                   Latitude  Longitude  Cluster Labels  \\\n",
       "Neighborhood                                             \n",
       "Kallimarmaro      37.968424  23.740403               2   \n",
       "Kallimarmaro      37.968424  23.740403               2   \n",
       "Kolonaki          37.976975  23.740814               2   \n",
       "Mount Lycabettus  37.981886  23.743152               2   \n",
       "\n",
       "                  Number of Italian Restaurants  Number of attractions  \n",
       "Neighborhood                                                            \n",
       "Kallimarmaro                                6.0                    2.0  \n",
       "Kallimarmaro                                6.0                    2.0  \n",
       "Kolonaki                                    4.0                    2.0  \n",
       "Mount Lycabettus                            7.0                    4.0  "
      ]
     },
     "execution_count": 42,
     "metadata": {},
     "output_type": "execute_result"
    },
    {
     "data": {
      "image/png": "[encoded data removed]",
      "text/plain": [
       "<Figure size 432x288 with 2 Axes>"
      ]
     },
     "metadata": {
      "needs_background": "light"
     },
     "output_type": "display_data"
    }
   ],
   "source": [
    "cluster_2=italian_restaurants.loc[italian_restaurants['Cluster Labels'] == 2.0, ].copy()\n",
    "cluster_2.set_index('Neighborhood',inplace=True)\n",
    "\n",
    "cluster_2.hist(column=['Number of Italian Restaurants','Number of attractions'],bins=5)\n",
    "cluster_2.head()"
   ]
  },
  {
   "cell_type": "markdown",
   "metadata": {},
   "source": [
    "## Conclusion\n",
    "\n",
    "In conclusion, and based on the graphs shown above, we can clearly notice that we obtained 3 types of neighborhoods:\n",
    "* Cluster 1: This cluster is characterized by a low number of italian restaurants (0) and a high number of attractions\n",
    "* Cluster 2: This group is not characterized by the presence of italian restaurants nor attractions.\n",
    "* Cluster 3: Finally, we have a group of neighborhoods that has a high number of italian restaurants but not a very high number of attractions.\n",
    "\n",
    "Obviously, our Italian entrepreneur should consider the neighborhoods within cluster 1 to setup his business."
   ]
  },
  {
   "cell_type": "code",
   "execution_count": null,
   "metadata": {},
   "outputs": [],
   "source": []
  }
 ],
 "metadata": {
  "kernelspec": {
   "display_name": "Python 2",
   "language": "python",
   "name": "python2"
  },
  "language_info": {
   "codemirror_mode": {
    "name": "ipython",
    "version": 2
   },
   "file_extension": ".py",
   "mimetype": "text/x-python",
   "name": "python",
   "nbconvert_exporter": "python",
   "pygments_lexer": "ipython2",
   "version": "2.7.12"
  }
 },
 "nbformat": 4,
 "nbformat_minor": 2
}
