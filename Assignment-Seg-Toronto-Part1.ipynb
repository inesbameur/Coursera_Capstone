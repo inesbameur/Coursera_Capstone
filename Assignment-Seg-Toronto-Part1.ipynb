{
 "cells": [
  {
   "cell_type": "markdown",
   "metadata": {},
   "source": [
    "<h1 align=center><font size = 5>Segmenting and Clustering Neighborhoods in Toronto City</font></h1>"
   ]
  },
  {
   "cell_type": "markdown",
   "metadata": {},
   "source": [
    "\n",
    "\n",
    "We start by Downloading all the dependencies that we will need:"
   ]
  },
  {
   "cell_type": "code",
   "execution_count": 132,
   "metadata": {},
   "outputs": [],
   "source": [
    "# import requests and BeautifulSoup to parse the wikipedia page\n",
    "from bs4 import BeautifulSoup\n",
    "import requests\n",
    "\n",
    "import pandas as pd\n",
    "import numpy as np"
   ]
  },
  {
   "cell_type": "markdown",
   "metadata": {},
   "source": [
    "The next step would be to get the page content and store it in a BeautifulSoup object.\n",
    "\n",
    "Note that i used **lxml** as the html processing library."
   ]
  },
  {
   "cell_type": "code",
   "execution_count": 133,
   "metadata": {},
   "outputs": [],
   "source": [
    "# wikipedia page link\n",
    "url = 'https://en.wikipedia.org/wiki/List_of_postal_codes_of_Canada:_M'\n",
    "\n",
    "# get the html source code of the postal codes page\n",
    "html_source = requests.get(url).text\n",
    "\n",
    "# create a BeautifulSoup object to parse the html code\n",
    "soup_page = BeautifulSoup(html_source,'lxml')"
   ]
  },
  {
   "cell_type": "markdown",
   "metadata": {},
   "source": [
    "In this section, we will parse the BeautifulSoup object, grab the html table and convert it into a dataframe:"
   ]
  },
  {
   "cell_type": "code",
   "execution_count": 135,
   "metadata": {},
   "outputs": [],
   "source": [
    "# parse the object to grab the html table\n",
    "table = soup_page.find('div', class_='mw-body').find('div',id='bodyContent').find('div',id='mw-content-text').div.table.tbody\n",
    "\n",
    "# initialize an empty array to store the columns names\n",
    "columns = []\n",
    "\n",
    "# parse the columns names\n",
    "for column in table.find('tr').find_all('th'):\n",
    "  columns.append(str(column.text).splitlines()[0])\n",
    "\n",
    "# initialize the dataframe with the given columns\n",
    "df = pd.DataFrame(columns=columns)\n",
    "\n",
    "# iterate over the html table and append the rows and columns to the dataframe\n",
    "for tr in table.find_all('tr')[1:]:\n",
    "    tds = tr.find_all('td')\n",
    "    row = [ str(td.text).splitlines()[0] for td in tds ]\n",
    "    df = df.append({'Postcode': row[0],\n",
    "               'Borough':row[1], \n",
    "               'Neighbourhood': row[2]}, ignore_index=True)\n"
   ]
  },
  {
   "cell_type": "markdown",
   "metadata": {},
   "source": [
    "We start cleaning the data by:\n",
    "    1.  Ignoring the cells with a borough that is Not assigned\n",
    "    2.  Setting the neighborhood as the borough if it is Not assigned"
   ]
  },
  {
   "cell_type": "code",
   "execution_count": 137,
   "metadata": {},
   "outputs": [],
   "source": [
    "df = df.loc[df['Borough']!= 'Not assigned']\n",
    "\n",
    "df['Neighbourhood'] = np.where(df['Neighbourhood']=='Not assigned', df['Borough'], df['Neighbourhood'])\n",
    "\n",
    "df = df.reset_index(drop=True)"
   ]
  },
  {
   "cell_type": "markdown",
   "metadata": {},
   "source": [
    "   3. group all the neighbourhouds with the same Postcode in one row, seperated with commas."
   ]
  },
  {
   "cell_type": "code",
   "execution_count": 138,
   "metadata": {},
   "outputs": [],
   "source": [
    "df = df.astype(str).groupby(['Postcode','Borough'])['Neighbourhood'].apply(', '.join).reset_index()"
   ]
  },
  {
   "cell_type": "markdown",
   "metadata": {},
   "source": [
    "The last step would be to print the number of rows of the final dataframe:"
   ]
  },
  {
   "cell_type": "code",
   "execution_count": 141,
   "metadata": {},
   "outputs": [
    {
     "data": {
      "text/plain": [
       "103"
      ]
     },
     "execution_count": 141,
     "metadata": {},
     "output_type": "execute_result"
    }
   ],
   "source": [
    "df.shape[0]"
   ]
  }
 ],
 "metadata": {
  "kernelspec": {
   "display_name": "Python 2",
   "language": "python",
   "name": "python2"
  },
  "language_info": {
   "codemirror_mode": {
    "name": "ipython",
    "version": 2
   },
   "file_extension": ".py",
   "mimetype": "text/x-python",
   "name": "python",
   "nbconvert_exporter": "python",
   "pygments_lexer": "ipython2",
   "version": "2.7.12"
  }
 },
 "nbformat": 4,
 "nbformat_minor": 2
}
